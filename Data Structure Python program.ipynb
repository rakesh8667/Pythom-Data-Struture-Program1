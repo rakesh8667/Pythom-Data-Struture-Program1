{
 "cells": [
  {
   "cell_type": "markdown",
   "metadata": {},
   "source": [
    "### write a Python program to generate Fibonacci series Program using Recursion."
   ]
  },
  {
   "cell_type": "code",
   "execution_count": 31,
   "metadata": {},
   "outputs": [
    {
     "name": "stdout",
     "output_type": "stream",
     "text": [
      "Enter the value of 'n': 7\n",
      "Fibonacci Series: 0 1 1 2 3 5 8 "
     ]
    }
   ],
   "source": [
    "def Fibonacci_series(Number): # create a function\n",
    "    if(Number == 0): # check if condition\n",
    "        return 0\n",
    "    elif(Number == 1): #check else condition\n",
    "        return 1\n",
    "    else:\n",
    "        return (Fibonacci_series(Number - 2) + Fibonacci_series(Number - 1)) # Function call (recursion)\n",
    "\n",
    "n = int(input(\"Enter the value of 'n': \")) # take input from user \n",
    "print(\"Fibonacci Series:\", end = ' ')\n",
    "for n in range(0, n): #itrating loop  \n",
    "    print(Fibonacci_series(n), end = ' ') # passing argument to function"
   ]
  },
  {
   "cell_type": "markdown",
   "metadata": {},
   "source": [
    "### Python program to generate Fibonacci series."
   ]
  },
  {
   "cell_type": "code",
   "execution_count": 32,
   "metadata": {},
   "outputs": [
    {
     "name": "stdout",
     "output_type": "stream",
     "text": [
      "Enter the value of 'n': 7\n",
      "Fibonacci Series:  0 1 1 2 3 5 8 "
     ]
    }
   ],
   "source": [
    "n = int(input(\"Enter the value of 'n': \")) # take input from user \n",
    "a = 0 #assigning value to  \n",
    "b = 1 #assigning value to \n",
    "sum = 0 #assigning value \n",
    "count = 1 #assigning value to \n",
    "print(\"Fibonacci Series: \", end = \" \")\n",
    "\n",
    "while(count <= n): # using while loop to check condition \n",
    "    print(sum, end = \" \")\n",
    "    count += 1 # iterating count\n",
    "    a = b\n",
    "    b = sum\n",
    "    sum = a + b"
   ]
  },
  {
   "cell_type": "markdown",
   "metadata": {},
   "source": [
    "### check the number is palindrom or not"
   ]
  },
  {
   "cell_type": "code",
   "execution_count": 2,
   "metadata": {},
   "outputs": [
    {
     "name": "stdout",
     "output_type": "stream",
     "text": [
      "enter sequencesas\n",
      "palindrome\n"
     ]
    }
   ],
   "source": [
    "a=input(\"enter sequence\")  # take input from user\n",
    "b=a[::-1] # slicing \n",
    "if a==b: # check condition\n",
    "   print(\"palindrome\") \n",
    "else:\n",
    "   print(\"Not a Palindrome\")"
   ]
  },
  {
   "cell_type": "code",
   "execution_count": null,
   "metadata": {},
   "outputs": [],
   "source": []
  }
 ],
 "metadata": {
  "kernelspec": {
   "display_name": "Python 3",
   "language": "python",
   "name": "python3"
  },
  "language_info": {
   "codemirror_mode": {
    "name": "ipython",
    "version": 3
   },
   "file_extension": ".py",
   "mimetype": "text/x-python",
   "name": "python",
   "nbconvert_exporter": "python",
   "pygments_lexer": "ipython3",
   "version": "3.7.7"
  }
 },
 "nbformat": 4,
 "nbformat_minor": 4
}
