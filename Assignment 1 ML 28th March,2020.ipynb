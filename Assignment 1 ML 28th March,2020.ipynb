{
 "cells": [
  {
   "cell_type": "markdown",
   "metadata": {},
   "source": [
    " # ASSIGNMENT 1 - Que1 - Qus7  "
   ]
  },
  {
   "cell_type": "markdown",
   "metadata": {},
   "source": [
    "### Que 1 - Write a program which will find all such numbers which are divisible by 7 but are not a multiple of 5, between 2000 and 3200 (both included). The numbers obtained should be printed in a comma-separated sequence on a single line."
   ]
  },
  {
   "cell_type": "code",
   "execution_count": 1,
   "metadata": {},
   "outputs": [
    {
     "name": "stdout",
     "output_type": "stream",
     "text": [
      "[2002, 2009, 2016, 2023, 2037, 2044, 2051, 2058, 2072, 2079, 2086, 2093, 2107, 2114, 2121, 2128, 2142, 2149, 2156, 2163, 2177, 2184, 2191, 2198, 2212, 2219, 2226, 2233, 2247, 2254, 2261, 2268, 2282, 2289, 2296, 2303, 2317, 2324, 2331, 2338, 2352, 2359, 2366, 2373, 2387, 2394, 2401, 2408, 2422, 2429, 2436, 2443, 2457, 2464, 2471, 2478, 2492, 2499, 2506, 2513, 2527, 2534, 2541, 2548, 2562, 2569, 2576, 2583, 2597, 2604, 2611, 2618, 2632, 2639, 2646, 2653, 2667, 2674, 2681, 2688, 2702, 2709, 2716, 2723, 2737, 2744, 2751, 2758, 2772, 2779, 2786, 2793, 2807, 2814, 2821, 2828, 2842, 2849, 2856, 2863, 2877, 2884, 2891, 2898, 2912, 2919, 2926, 2933, 2947, 2954, 2961, 2968, 2982, 2989, 2996, 3003, 3017, 3024, 3031, 3038, 3052, 3059, 3066, 3073, 3087, 3094, 3101, 3108, 3122, 3129, 3136, 3143, 3157, 3164, 3171, 3178, 3192, 3199]\n"
     ]
    }
   ],
   "source": [
    "l=[]                                 # empty list to store our result\n",
    "for i in range(2000,3201):           # inclusive both numbers\n",
    "    if i % 7 ==0 and i % 5 != 0:     # condition to check divisible by 7 and should not be multiple of 5\n",
    "        l.append(i)                  # storing the result to our empty list\n",
    "        i = i + 1                    # adding 1 to keep the loop in continuity\n",
    "print(l)"
   ]
  },
  {
   "cell_type": "markdown",
   "metadata": {},
   "source": [
    "### Qus2 - Write a Python program to accept the user's first and last name and then getting them printed in the the reverse order with a space between first name and last name"
   ]
  },
  {
   "cell_type": "code",
   "execution_count": 2,
   "metadata": {},
   "outputs": [
    {
     "name": "stdout",
     "output_type": "stream",
     "text": [
      "enter your first name:First\n",
      "enter your second name:Second\n",
      "tsriF dnoceS\n"
     ]
    }
   ],
   "source": [
    "\n",
    "first_name  = input(\"enter your first name:\")            # taking inputs from user  \n",
    "\n",
    "last_name   = input(\"enter your second name:\")     \n",
    "                                                         # empty list to store our output\n",
    "for i in first_name:\n",
    "    \n",
    "    result = first_name[::-1] + \" \" + last_name[::-1]    # we are using indexing in reverse order\n",
    "\n",
    "print(result)"
   ]
  },
  {
   "cell_type": "markdown",
   "metadata": {},
   "source": [
    "### Qus 3- Write a Python program to find the volume of a sphere with diameter 12 cm. "
   ]
  },
  {
   "cell_type": "code",
   "execution_count": 9,
   "metadata": {},
   "outputs": [],
   "source": [
    "vol=0                                      # using a variable to store our result\n",
    "\n",
    "def volume(x):                             # creating a function \n",
    "    \n",
    "    vol = 4/3 * 22/7 * 2 * (x * x * x)     # we are multiplying radius with 2 as diameter\n",
    "\n",
    "    print(vol)"
   ]
  },
  {
   "cell_type": "code",
   "execution_count": 10,
   "metadata": {},
   "outputs": [
    {
     "name": "stdout",
     "output_type": "stream",
     "text": [
      "1047.6190476190477\n"
     ]
    }
   ],
   "source": [
    "volume(5)"
   ]
  },
  {
   "cell_type": "markdown",
   "metadata": {},
   "source": [
    "### Qus 4 - Write a program which accepts a sequence of comma-separated numbers from console and generate a list."
   ]
  },
  {
   "cell_type": "code",
   "execution_count": 12,
   "metadata": {},
   "outputs": [
    {
     "name": "stdout",
     "output_type": "stream",
     "text": [
      "enter your length number:3\n",
      "Enter list number1\n",
      "Enter list number2\n",
      "Enter list number3\n",
      "[1, 2, 3]\n"
     ]
    }
   ],
   "source": [
    "list1=[]                                           # using empty list to store result\n",
    "\n",
    "number = int(input('enter your length number:'))   # taking input as how many numbers you want to enter\n",
    "\n",
    "for i in range(number):                            # using a for loop with range\n",
    "    \n",
    "    list1.append(int(input('Enter list number')))  #append those number along with entry \n",
    "    \n",
    "print(list1)"
   ]
  },
  {
   "cell_type": "markdown",
   "metadata": {},
   "source": [
    "### Qus 5 - Create the below pattern using nested for loop in Python. "
   ]
  },
  {
   "cell_type": "code",
   "execution_count": 15,
   "metadata": {},
   "outputs": [
    {
     "name": "stdout",
     "output_type": "stream",
     "text": [
      "enter your rows:4\n",
      "\n",
      "\n",
      "* \n",
      "* * \n",
      "* * * \n",
      "* * * * \n",
      "* * * \n",
      "* * \n",
      "* \n"
     ]
    }
   ],
   "source": [
    "number = int(input('enter your rows:'))             # taking input as for how many rows we want to print star format\n",
    "\n",
    "print('\\n')\n",
    "\n",
    "for i in range(number):                            # for loop to start it with 1 and adding 1 to move it to next row\n",
    "\n",
    "    print(\"* \" * (i+1))                            # multiplying '*' with (i+1) to increase it from 1 to given number\n",
    "    \n",
    "for i in range(number-1):                          # decreasing numbers to come from given number upto end\n",
    "    \n",
    "    print(\"* \"* (number-1-i))                      # decreasing both from number and i for reverse patternn"
   ]
  },
  {
   "cell_type": "markdown",
   "metadata": {},
   "source": [
    "### Qus 6- Write a Python program to reverse a word after accepting the input from the user."
   ]
  },
  {
   "cell_type": "code",
   "execution_count": 17,
   "metadata": {},
   "outputs": [
    {
     "name": "stdout",
     "output_type": "stream",
     "text": [
      "enter your string:abcdefgh\n",
      "hgfedcba\n"
     ]
    }
   ],
   "source": [
    "name = input('enter your string:')                  # taking input from user\n",
    "\n",
    "output = reversed(name)                             # reversed function \n",
    "\n",
    "output = ''.join(output)                            # storing the output with join function\n",
    "\n",
    "print(output) "
   ]
  },
  {
   "cell_type": "markdown",
   "metadata": {},
   "source": [
    "### Qus 7 - Write a Python Program to print the given string in the format specified in the ​sample output \n",
    " "
   ]
  },
  {
   "cell_type": "markdown",
   "metadata": {},
   "source": [
    "###### WE, THE PEOPLE OF INDIA, \n",
    "      having solemnly resolved to constitute India into a SOVEREIGN, !\n",
    "             SOCIALIST, SECULAR, DEMOCRATIC REPUBLIC \n",
    "              and to secure to all its citizens"
   ]
  },
  {
   "cell_type": "code",
   "execution_count": 18,
   "metadata": {},
   "outputs": [],
   "source": [
    "st = 'WE, THE PEOPLE OF INDIA, having solemnly resolved to constitute India into a SOVEREIGN, SOCIALIST, SECULAR, DEMOCRATIC REPUBLIC and to secure to all its citizens '"
   ]
  },
  {
   "cell_type": "code",
   "execution_count": 19,
   "metadata": {},
   "outputs": [
    {
     "name": "stdout",
     "output_type": "stream",
     "text": [
      "WE, THE PEOPLE OF INDIA,\n",
      "      having solemnly resolved to constitute India into a SOVEREIGN,!\n",
      "\t  SOCIALIST, SECULAR, DEMOCRATIC REPUBLIC\n",
      "\t\t and to secure to all its citizens\n"
     ]
    }
   ],
   "source": [
    "print('WE, THE PEOPLE OF INDIA,'+'\\n   '+'   having solemnly resolved to constitute India into a SOVEREIGN,!' +'\\n'+'\\t' + '  SOCIALIST, SECULAR, DEMOCRATIC REPUBLIC' +'\\n'+'\\t'+'\\t'+ ' and to secure to all its citizens')"
   ]
  },
  {
   "cell_type": "markdown",
   "metadata": {},
   "source": [
    "# END OF ASSIGNMENT- 1 "
   ]
  }
 ],
 "metadata": {
  "kernelspec": {
   "display_name": "Python 3",
   "language": "python",
   "name": "python3"
  },
  "language_info": {
   "codemirror_mode": {
    "name": "ipython",
    "version": 3
   },
   "file_extension": ".py",
   "mimetype": "text/x-python",
   "name": "python",
   "nbconvert_exporter": "python",
   "pygments_lexer": "ipython3",
   "version": "3.7.0"
  }
 },
 "nbformat": 4,
 "nbformat_minor": 2
}
