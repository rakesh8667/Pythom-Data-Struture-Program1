{
 "cells": [
  {
   "cell_type": "markdown",
   "metadata": {},
   "source": [
    "# Write a program to short an name alphabetically without using predefine function."
   ]
  },
  {
   "cell_type": "code",
   "execution_count": 1,
   "metadata": {},
   "outputs": [
    {
     "name": "stdout",
     "output_type": "stream",
     "text": [
      "Please enter a Name: Rakesh\n",
      "Elements of array sorted in ascending order: \n",
      "Raehks"
     ]
    }
   ],
   "source": [
    "name1 = input('Please enter a Name: ')\n",
    "name= [alpha for alpha in name1]\n",
    "for i in range(0,len(name)):\n",
    "    for j in range(i+1,len(name)):\n",
    "        if name[i] > name[j]:\n",
    "            temp=name[i]\n",
    "            name[i]=name[j]\n",
    "            name[j]=temp\n",
    "    print(end='')\n",
    "\n",
    "print(\"Elements of array sorted in ascending order: \");    \n",
    "for i in range(0, len(name)):    \n",
    "    print(name[i], end=\"\")"
   ]
  },
  {
   "cell_type": "markdown",
   "metadata": {},
   "source": []
  },
  {
   "cell_type": "code",
   "execution_count": null,
   "metadata": {},
   "outputs": [],
   "source": [
    "n=int(input('enter  value'))\n",
    "for i in range(0,n):\n",
    "    for j in range(0,i+1):\n",
    "        if (((i + j) % 2) == 0):\n",
    "            print('0', end='')\n",
    "        else:\n",
    "            print('1', end='')\n",
    "        print('\\t' ,end='')\n",
    "    print(\"\")          "
   ]
  },
  {
   "cell_type": "markdown",
   "metadata": {},
   "source": [
    "## write a program to find prime number"
   ]
  },
  {
   "cell_type": "code",
   "execution_count": null,
   "metadata": {},
   "outputs": [],
   "source": [
    "number=int(input('enter a  number: '))\n",
    "\n",
    "for i in range(2, number):\n",
    "    if (number % i) == 0:\n",
    "        print(number, \"is not a prime number\")\n",
    "        break\n",
    "else:\n",
    "    print(number ,\"is a prime number\")\n",
    "        \n",
    "        \n",
    "#print(end='')   "
   ]
  },
  {
   "cell_type": "markdown",
   "metadata": {},
   "source": [
    "## write a fabonacci series program in python"
   ]
  },
  {
   "cell_type": "code",
   "execution_count": null,
   "metadata": {},
   "outputs": [],
   "source": [
    "factorial=1\n",
    "while True:\n",
    "    try:\n",
    "        number=int(input(\"enter an element: \"))\n",
    "        if number < 0 :\n",
    "                print('entered wrong number, Please try again')\n",
    "\n",
    "        else:\n",
    "            for i in range(1,number+1):\n",
    "                factorial= factorial * i\n",
    "\n",
    "            print('factorial of number ', number,'is',factorial) \n",
    "            break\n",
    "    except:\n",
    "        print('Please enter a valid number')\n"
   ]
  },
  {
   "cell_type": "markdown",
   "metadata": {},
   "source": [
    "## Write a program which will find all such numbers which are divisible by 7 but are not a multipleof 5, between 2000 and 3200 (both included). The numbers obtained should be printed in acomma-separated sequence on a single line."
   ]
  },
  {
   "cell_type": "code",
   "execution_count": null,
   "metadata": {},
   "outputs": [],
   "source": [
    "n=[]\n",
    "for num in range(2000, 3200):\n",
    "    if (num%7==0) and (num%5!=0):\n",
    "        n.append(num)\n",
    "print(n)"
   ]
  },
  {
   "cell_type": "markdown",
   "metadata": {},
   "source": [
    "## Write a Python program to accept the user's first and last name and then getting them printed inthe the reverse order with a space between first name and last name."
   ]
  },
  {
   "cell_type": "code",
   "execution_count": null,
   "metadata": {},
   "outputs": [],
   "source": [
    "f_name=input('enter first name :')\n",
    "l_name=input('enter last name :')\n",
    "print(''.join(reversed(f_name + ' ' + l_name)))"
   ]
  },
  {
   "cell_type": "markdown",
   "metadata": {},
   "source": [
    "# End of Assignment"
   ]
  },
  {
   "cell_type": "code",
   "execution_count": null,
   "metadata": {},
   "outputs": [],
   "source": []
  },
  {
   "cell_type": "code",
   "execution_count": null,
   "metadata": {},
   "outputs": [],
   "source": []
  }
 ],
 "metadata": {
  "kernelspec": {
   "display_name": "Python 3",
   "language": "python",
   "name": "python3"
  },
  "language_info": {
   "codemirror_mode": {
    "name": "ipython",
    "version": 3
   },
   "file_extension": ".py",
   "mimetype": "text/x-python",
   "name": "python",
   "nbconvert_exporter": "python",
   "pygments_lexer": "ipython3",
   "version": "3.7.0"
  }
 },
 "nbformat": 4,
 "nbformat_minor": 2
}
